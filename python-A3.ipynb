{
 "cells": [
  {
   "cell_type": "code",
   "execution_count": 2,
   "id": "8df3b22a-c4f5-4e8e-918e-aa4725aab3f9",
   "metadata": {},
   "outputs": [],
   "source": [
    "##Q1. Which keyword is used to create a function? Create a function to return a list of odd numbers in the range of 1 to 25."
   ]
  },
  {
   "cell_type": "code",
   "execution_count": 3,
   "id": "934d701f-f44b-4ced-9ad1-cea0fe5d8eb2",
   "metadata": {},
   "outputs": [],
   "source": [
    "## ans: def keyword is used to creat a function in python "
   ]
  },
  {
   "cell_type": "code",
   "execution_count": 27,
   "id": "400e8ad1-761b-4dad-93f6-d3087baaa52f",
   "metadata": {},
   "outputs": [
    {
     "name": "stdout",
     "output_type": "stream",
     "text": [
      "[1, 3, 5, 7, 9, 11, 13, 15, 17, 19, 21, 23, 25]\n"
     ]
    }
   ],
   "source": [
    "def odd_num():\n",
    "    \"\"\"\n",
    "    function to return a list of odd numbers in the range of 1 to 25\n",
    "    \"\"\"\n",
    "    a=[]\n",
    "    for i in range(1,25):\n",
    "        if i % 2!=0:\n",
    "            a.append(i)\n",
    "    return a \n",
    "print(result_list)"
   ]
  },
  {
   "cell_type": "code",
   "execution_count": 29,
   "id": "a1a31558-b6fd-448e-845a-e8e71cd2c351",
   "metadata": {},
   "outputs": [],
   "source": [
    "##Q2 Why *args and **kwargs is used in some functions? Create a function each for *args and **kwargs to demonstrate their use."
   ]
  },
  {
   "cell_type": "code",
   "execution_count": 35,
   "id": "dc251ece-849c-43cb-a4e2-04eabf492542",
   "metadata": {},
   "outputs": [],
   "source": [
    "##*args allow us to input multipal data or variable in a function where **kwargs allow us to input data as keywords or dictionary"
   ]
  },
  {
   "cell_type": "code",
   "execution_count": 11,
   "id": "fb74e884-dc02-416a-bfcf-488d98ad571b",
   "metadata": {},
   "outputs": [],
   "source": [
    "def test(*args):\n",
    "    a = 0\n",
    "    for i in args:\n",
    "        a += num\n",
    "    return total"
   ]
  },
  {
   "cell_type": "code",
   "execution_count": 66,
   "id": "9724bc56-42df-41dd-8484-e6697453177f",
   "metadata": {},
   "outputs": [
    {
     "name": "stdout",
     "output_type": "stream",
     "text": [
      "name: Alice\n",
      "age: 30\n",
      "city: New York\n"
     ]
    }
   ],
   "source": [
    "def test2(**kwargs):\n",
    "    for key, value in kwargs.items():\n",
    "        print(f\"{key}: {value}\")\n",
    "\n",
    "display_info(name=\"Alice\", age=30, city=\"New York\")\n"
   ]
  },
  {
   "cell_type": "code",
   "execution_count": 68,
   "id": "1f100f95-6afd-482e-9907-03c54c46a2ef",
   "metadata": {},
   "outputs": [],
   "source": [
    "### Q3 What is an iterator in python? Name the method used to initialise the iterator object and the method used for iteration. \n",
    "###Use these methods to print the first five elements of the given list [2, 4, 6, 8, 10, 12, 14, 16, 18, 20]."
   ]
  },
  {
   "cell_type": "code",
   "execution_count": 69,
   "id": "12c4d29d-55ae-4723-b2a9-592b980b3ff8",
   "metadata": {},
   "outputs": [],
   "source": [
    "### ans: In Python, an iterator is an object that allows you to iterate through a sequence of elements one by one."
   ]
  },
  {
   "cell_type": "code",
   "execution_count": 101,
   "id": "8c1ab5f4-0a9c-44b4-86ba-55ebbe4094c6",
   "metadata": {},
   "outputs": [],
   "source": [
    "l=[2, 4, 6, 8, 10, 12, 14, 16, 18, 20]"
   ]
  },
  {
   "cell_type": "code",
   "execution_count": 102,
   "id": "d7967fa7-f43e-4307-8150-3d9b6d7517ff",
   "metadata": {},
   "outputs": [],
   "source": [
    "l1=iter(l)"
   ]
  },
  {
   "cell_type": "code",
   "execution_count": 105,
   "id": "4c621e2d-e806-4a7a-a2a4-654d03498e14",
   "metadata": {},
   "outputs": [
    {
     "name": "stdout",
     "output_type": "stream",
     "text": [
      "2\n",
      "4\n",
      "6\n",
      "8\n",
      "10\n"
     ]
    }
   ],
   "source": [
    "l1 = [2, 4, 6, 8, 10, 12, 14, 16, 18, 20]\n",
    "l2 = iter(l1)\n",
    "for _ in range(5):\n",
    "    element = next(l2)\n",
    "    print(element)\n",
    "\n"
   ]
  },
  {
   "cell_type": "code",
   "execution_count": 107,
   "id": "12f33131-9fb2-4f15-a15e-6da7a8ec8e86",
   "metadata": {},
   "outputs": [],
   "source": [
    "###Q4What is a generator function in python? Why yield keyword is used? Give an example of a generator function."
   ]
  },
  {
   "cell_type": "code",
   "execution_count": 110,
   "id": "a51f663b-9de7-4466-8b6b-2380e25b0e96",
   "metadata": {},
   "outputs": [],
   "source": [
    "## ans:= In Python, a generator function is a special type of function that uses the yield keyword to produce a sequence of values."
   ]
  },
  {
   "cell_type": "code",
   "execution_count": 115,
   "id": "d56dd2be-a7aa-4be6-9a8b-1e21980bd67c",
   "metadata": {},
   "outputs": [],
   "source": [
    "def count_test(n):\n",
    "    count=2\n",
    "    while count <= n:\n",
    "        yield  count\n",
    "        count=count+1"
   ]
  },
  {
   "cell_type": "code",
   "execution_count": 118,
   "id": "385ce811-90e4-452b-9026-7a65967c0a68",
   "metadata": {},
   "outputs": [],
   "source": [
    "s=count_test(10)"
   ]
  },
  {
   "cell_type": "code",
   "execution_count": 119,
   "id": "68e06585-1142-4308-b352-bc8e407ecb8e",
   "metadata": {},
   "outputs": [
    {
     "name": "stdout",
     "output_type": "stream",
     "text": [
      "2\n",
      "3\n",
      "4\n",
      "5\n",
      "6\n",
      "7\n",
      "8\n",
      "9\n",
      "10\n"
     ]
    }
   ],
   "source": [
    "for i in s:\n",
    "    print(i)"
   ]
  },
  {
   "cell_type": "code",
   "execution_count": 120,
   "id": "c613610c-2769-4010-a617-c00b2a831303",
   "metadata": {},
   "outputs": [],
   "source": [
    "###Q5. Create a generator function for prime numbers less than 1000. Use the next() method to print the first 20 prime numbers."
   ]
  },
  {
   "cell_type": "code",
   "execution_count": 132,
   "id": "2be8af85-885e-468b-8e20-3f264579fad4",
   "metadata": {},
   "outputs": [
    {
     "name": "stdout",
     "output_type": "stream",
     "text": [
      "2\n",
      "3\n",
      "5\n",
      "7\n",
      "11\n",
      "13\n",
      "17\n",
      "19\n",
      "23\n",
      "29\n",
      "31\n",
      "37\n",
      "41\n",
      "43\n",
      "47\n",
      "53\n",
      "59\n",
      "61\n",
      "67\n",
      "71\n"
     ]
    }
   ],
   "source": [
    "def primes_generator(limit):\n",
    "    num = 2\n",
    "    while num < limit:\n",
    "        if is_prime(num):\n",
    "            yield num\n",
    "        num += 1\n",
    "\n",
    "prime_generator = primes_generator(1000)\n",
    "\n",
    "for _ in range(20):\n",
    "    print(next(prime_generator))\n"
   ]
  },
  {
   "cell_type": "code",
   "execution_count": 133,
   "id": "75133c01-b649-4cb5-8365-92daa7d663c9",
   "metadata": {},
   "outputs": [],
   "source": [
    "###Q6. Write a python program to print the first 10 Fibonacci numbers using a while loop."
   ]
  },
  {
   "cell_type": "code",
   "execution_count": 30,
   "id": "9de17dfb-d724-4eb4-b6c3-b4903739bfee",
   "metadata": {},
   "outputs": [],
   "source": [
    "def test_fib(n):\n",
    "    a,b=1,2\n",
    "    for i in range(n):\n",
    "        yield(a)\n",
    "        a,b=b,a+b"
   ]
  },
  {
   "cell_type": "code",
   "execution_count": 31,
   "id": "458098a8-1f17-434b-bbbe-ad37cfba945f",
   "metadata": {},
   "outputs": [
    {
     "name": "stdout",
     "output_type": "stream",
     "text": [
      "1\n",
      "2\n",
      "3\n",
      "5\n",
      "8\n",
      "13\n",
      "21\n",
      "34\n",
      "55\n",
      "89\n"
     ]
    }
   ],
   "source": [
    "for i in test_fib(10):\n",
    "    print(i)"
   ]
  },
  {
   "cell_type": "code",
   "execution_count": 7,
   "id": "86ca37ac-59a8-41cd-9936-20724a127d4f",
   "metadata": {},
   "outputs": [],
   "source": [
    "###Q7 Write a List Comprehension to iterate through the given string: ‘pwskills’. Expected output: ['p', 'w', 's', 'k', 'i', 'l', 'l', 's']"
   ]
  },
  {
   "cell_type": "code",
   "execution_count": 14,
   "id": "703e099e-c82d-449c-82fa-9d9565fada4a",
   "metadata": {},
   "outputs": [],
   "source": [
    "s=\"pwskills\""
   ]
  },
  {
   "cell_type": "code",
   "execution_count": 23,
   "id": "a9bb9de9-dd20-461b-862a-b828e7cf8d2a",
   "metadata": {},
   "outputs": [
    {
     "name": "stdout",
     "output_type": "stream",
     "text": [
      "['p', 'w', 's', 'k', 'i', 'l', 'l', 's']\n"
     ]
    }
   ],
   "source": [
    "s1=[x for x in s if x in \"pwskills\"]\n",
    "print(s1)"
   ]
  },
  {
   "cell_type": "code",
   "execution_count": 32,
   "id": "42c271e8-8362-43c6-9828-47b362bed878",
   "metadata": {},
   "outputs": [],
   "source": [
    "###q8 Write a python program to check whether a given number is Palindrome or not using a while loop."
   ]
  },
  {
   "cell_type": "code",
   "execution_count": 72,
   "id": "4e8d1293-7028-44f8-b0b5-ce577d5230a8",
   "metadata": {},
   "outputs": [
    {
     "name": "stdout",
     "output_type": "stream",
     "text": [
      " given number is Palindrome\n"
     ]
    }
   ],
   "source": [
    "s=\"saras\"\n",
    "if s == s[::-1]:\n",
    "    print(\" given number is Palindrome\")\n",
    "else:\n",
    "    print(\" given number is not Palindrome\")"
   ]
  },
  {
   "cell_type": "code",
   "execution_count": 74,
   "id": "442a6550-5830-42f2-a5bb-f97f4a2af9b3",
   "metadata": {},
   "outputs": [],
   "source": [
    "###q9 Write a code to print odd numbers from 1 to 100 using list comprehension."
   ]
  },
  {
   "cell_type": "code",
   "execution_count": 1,
   "id": "3b29359d-cc95-4191-9cd6-c4cdb79a7b8a",
   "metadata": {},
   "outputs": [
    {
     "name": "stdout",
     "output_type": "stream",
     "text": [
      "[1, 2, 3, 4, 5, 6, 7, 8, 9, 10, 11, 12, 13, 14, 15, 16, 17, 18, 19, 20, 21, 22, 23, 24, 25, 26, 27, 28, 29, 30, 31, 32, 33, 34, 35, 36, 37, 38, 39, 40, 41, 42, 43, 44, 45, 46, 47, 48, 49, 50, 51, 52, 53, 54, 55, 56, 57, 58, 59, 60, 61, 62, 63, 64, 65, 66, 67, 68, 69, 70, 71, 72, 73, 74, 75, 76, 77, 78, 79, 80, 81, 82, 83, 84, 85, 86, 87, 88, 89, 90, 91, 92, 93, 94, 95, 96, 97, 98, 99]\n"
     ]
    }
   ],
   "source": [
    "l1=list(range(1,100))\n",
    "print(l1)"
   ]
  },
  {
   "cell_type": "code",
   "execution_count": 2,
   "id": "e62a7c8f-3904-47bf-9f4c-9984063a1145",
   "metadata": {},
   "outputs": [
    {
     "name": "stdout",
     "output_type": "stream",
     "text": [
      "1\n",
      "3\n",
      "5\n",
      "7\n",
      "9\n",
      "11\n",
      "13\n",
      "15\n",
      "17\n",
      "19\n",
      "21\n",
      "23\n",
      "25\n",
      "27\n",
      "29\n",
      "31\n",
      "33\n",
      "35\n",
      "37\n",
      "39\n",
      "41\n",
      "43\n",
      "45\n",
      "47\n",
      "49\n",
      "51\n",
      "53\n",
      "55\n",
      "57\n",
      "59\n",
      "61\n",
      "63\n",
      "65\n",
      "67\n",
      "69\n",
      "71\n",
      "73\n",
      "75\n",
      "77\n",
      "79\n",
      "81\n",
      "83\n",
      "85\n",
      "87\n",
      "89\n",
      "91\n",
      "93\n",
      "95\n",
      "97\n",
      "99\n"
     ]
    }
   ],
   "source": [
    "for i in l1:\n",
    "    if i %2== 1:\n",
    "        print(i)    "
   ]
  },
  {
   "cell_type": "code",
   "execution_count": null,
   "id": "89f90a17-bca8-4644-bc50-9579efe128f8",
   "metadata": {},
   "outputs": [],
   "source": []
  },
  {
   "cell_type": "code",
   "execution_count": null,
   "id": "ba5862f0-0fd7-420b-8784-47722a5d5198",
   "metadata": {},
   "outputs": [],
   "source": []
  }
 ],
 "metadata": {
  "kernelspec": {
   "display_name": "Python 3 (ipykernel)",
   "language": "python",
   "name": "python3"
  },
  "language_info": {
   "codemirror_mode": {
    "name": "ipython",
    "version": 3
   },
   "file_extension": ".py",
   "mimetype": "text/x-python",
   "name": "python",
   "nbconvert_exporter": "python",
   "pygments_lexer": "ipython3",
   "version": "3.10.8"
  }
 },
 "nbformat": 4,
 "nbformat_minor": 5
}
